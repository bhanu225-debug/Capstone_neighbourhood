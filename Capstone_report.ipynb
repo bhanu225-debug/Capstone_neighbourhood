{
    "cells": [
        {
            "metadata": {
                "collapsed": true
            },
            "cell_type": "markdown",
            "source": "<h3 align=center><font size = 5>If someone is looking to open a restaurant in MUMBAI, where would you recommend that they open it?</font></h3>\n\n"
        },
        {
            "metadata": {},
            "cell_type": "markdown",
            "source": "# Introduction:\nThe city of Mumbai is the most popular city in India and in fact it is the biggest city in India. It is most diversified as a lot of people from different countries and different states from India live there. It offers many business opportunities for new people so it is competitive. Careful consideration Analysis for the business expansion is so important as it is directly proportional to the cost of the business. The analysis from this report helps for the new businesses strategically target the market and help in a high return on investment so is low risk. So here ,our consideration is \u201cIf someone is looking to open a restaurant in MUMBAI, where would you recommend that they open it\u201d"
        },
        {
            "metadata": {},
            "cell_type": "markdown",
            "source": "# Description:\nThere are so many things to consider from choosing the right location to finding the financing to selecting the right name.As the location is one of the main factors in opening a new restaurant we will focus on the restaurant business around the Mumbai area in this report.The first step in opening a new restaurant is deciding what type of restaurant it is going to be? Is it a high-end fine dining restaurant or casual style dinner or a specific type of cuisine in mind such as French, Italian or Indian.Choosing a restaurant located in a busy area with plenty of foot traffic, or is there enough parking or are there any other restaurants opened or closed in the same spot?We will focus on the types of different restaurants which are opened or closed in a particular place and then decide if it is a good place to open a new restaurant based on the popular cuisine around that place. Here,I have considered south Mumbai as the location to open restaurant. So, Let\u2019s explore Neighbourhoods of the south Mumbai."
        },
        {
            "metadata": {},
            "cell_type": "markdown",
            "source": "# Target Audience:\nThe objective of this project is to recommend which neighbourhood of Mumbai is a good choice for a new restaurant business to open."
        },
        {
            "metadata": {},
            "cell_type": "markdown",
            "source": "# Data Description:\nTo consider the problem we can list the data as below:\n1. I have taken data of the Mumbai city neighbourhoods from (https://en.wikipedia.org/wiki/List_of_neighbourhoods_in_Mumbai).But I found only list of neighbourhoods not coordinates .So,I have created wiki link(https://en.wikipedia.org/wiki/Draft:Mumbai_neighbourhood_coordinates)with list of neighbourhoods with corresponding coordinates (latitude and longitude). So, Others can also use above link .\n2. I have read html page through pd.read_html() and I have created data frame with main components and I have exported data to_excel .\n3. Finally,I have cleaned all the data and created structured data frame.\n4. The data frame has 6 Locations and 93 neighbourhoods.\n5. I used Foursquare API to get the most common venues of given Location of Mumbai city."
        },
        {
            "metadata": {},
            "cell_type": "markdown",
            "source": "# Methodology\nMy master data which has the main components \u2018Neighbourhood\u2019,\u2019Location\u2019,\u2019Latitude\u2019,\u2019Longitude information of the city."
        },
        {
            "metadata": {},
            "cell_type": "markdown",
            "source": "<img src = \"https://miro.medium.com/max/1104/1*wK8R5sSUtm1j11yAW_sUhQ.jpeg\" width = 400> \n\n"
        },
        {
            "metadata": {},
            "cell_type": "markdown",
            "source": "I used python folium library to visualize geographic details of Mumbai and its Neighbourhood and I created a map of Mumbai with location areas. I used latitude and longitude values to get the visual as below:"
        },
        {
            "metadata": {},
            "cell_type": "markdown",
            "source": "<img src = \"https://miro.medium.com/max/1280/1*8eC3W5C-TS-VJYhlMbC3kA.jpeg\" width = 400> "
        },
        {
            "metadata": {},
            "cell_type": "markdown",
            "source": "Here,I have considered south Mumbai as the location to open restaurant,My master data which has the main components \u2018Neighbourhood\u2019,\u2019Location\u2019,\u2019Latitude\u2019,\u2019Longitude information of the city."
        },
        {
            "metadata": {},
            "cell_type": "markdown",
            "source": "<img src=https://miro.medium.com/max/1280/1*0DLFSCxeRYUmvXqjgLB_oQ.jpeg width = 400> "
        },
        {
            "metadata": {},
            "cell_type": "markdown",
            "source": "I have utilized the Foursquare API to explore the neighbourhoods and segment them. I designed the limit as 100 venue and the radius 1000 meter for each neighbourhood from their given latitude and longitude information. Here is a head of the list Venues name, category, latitude and longitude information from Forsquare API."
        },
        {
            "metadata": {},
            "cell_type": "markdown",
            "source": "<img src= https://miro.medium.com/max/1280/1*B6Gy4TjuZRRo0-Q8TM5pXQ.jpeg width=400>"
        },
        {
            "metadata": {},
            "cell_type": "markdown",
            "source": "# Exploratory Data Analysis:\n# Mumbai Neighbourhood data:\n1. We first scrap the neighborhood information from Wikipedia and load that into a data frame dropping unnecessary columns.\n2. Then we perform data wrangling to convert the data into the analysis-ready form.\n3. Then we use the geopy library to get the latitude and longitude information for each neighborhood.\n4. Then we use this data to get the 100 nearby restaurants within 1000 meters of a neighborhood using foursquare location data.\n5. Calculate and perform unique restaurant categories in each neighborhood and find the top 10 most common restaurants.\n6. Then we will cluster all the restaurants in all the neighborhoods using the k-means clustering algorithm.\n# Total number of venues in each Neighbourhood:\nThere are 154 unique categories."
        },
        {
            "metadata": {},
            "cell_type": "markdown",
            "source": "<img src= https://miro.medium.com/max/1280/1*gI7wuvLMy32aFfIv-4k3NQ.jpeg width=400>"
        },
        {
            "metadata": {},
            "cell_type": "markdown",
            "source": "# Analyse Each Neighbourhood:-\n\nI have analysed each neighbourhood and found out 10 most common venues in each neighbourhood.\n\n<img src=https://miro.medium.com/max/1280/1*zXwqTS7aEpJkdsJGItXPmQ.jpeg width=400>\n\n <h5 align=center><font size = 3>center 10 most common restaurants in each neighbourhoods</font></h5>\n\n# Cluster Neighbourhoods:\n\nWe have some common venue categories in Neighbourhoods. In this reason I used unsupervised learning K-means algorithm to cluster the Neighbourhoods. K-Means algorithm is one of the most common cluster method of unsupervised learning.\n\n1. k*-means to cluster the neighbourhood into 5 clusters\n2. The folium representation of the clustered data will look like below.\n \n<img src=https://miro.medium.com/max/1104/1*5Y_ERpUabY1CsNmw_CmV1g.jpeg width=400>\n\n <h5 align=center><font size = 3>Neighbourhood cluster</font></h5>\n\n\n# Examining the Clusters:\nWe can examine each cluster and determine the discriminating types of restaurants that distinguish each cluster.\n\n# Cluster 1:\n\n<img src=https://miro.medium.com/max/1280/1*we2R5g8xptw-xB0r0uK4oA.jpeg width=400>\n\n\n <h5 align=center><font size = 3>Cluster 1</font></h5>\n \n# Cluster 2:\n\n<img src=https://miro.medium.com/max/1280/1*RUNsZfJ5cTuzjzwePL1MwQ.jpeg width=400>\n\n<h5 align=center><font size = 3>Cluster 2</font></h5>\n\n# Cluster3:\n<img src=https://miro.medium.com/max/1280/1*Y4Ijmthmv1MpvjOv5oJnZA.jpeg width=400>\n\n<h5 align=center><font size = 3>Cluster 3</font></h5>\n\n# Cluster 4:\n<img src=https://miro.medium.com/max/1280/1*Yi0whlqYAe6Jwsx-zVoEaQ.jpeg width=400>\n\n<h5 align=center><font size = 3>Cluster 4</font></h5>\n\n# Cluster 5:\n<img src=https://miro.medium.com/max/1280/1*we2R5g8xptw-xB0r0uK4oA.jpeg width=400>\n<h5 align=center><font size = 3>Cluster 5</font></h5>\n\n# Discussions:\nHere are the few suggestions can be made by the results,\n\n1. From the geographical presentation of the clusters, we can say that there is a scope to open a new restaurant in the Cuffe Parade area.\n2. From the results, we can suggest that opening a new Indian restaurent at C.G.S. colony,Antop Hill .\n3. It can also be suggested that opening a Fast food restaurant at Malabar Hill .\n\n# Conclusion\nAs the analysis is performed on a small set of data, we can achieve better results by increasing the neighbourhood information. Mumbai has scope to expand different types of restaurants at different places. Based on the current results it can be observed that the South Mumbai has many different types of new restaurant business to offer. It can also be explored further with careful consideration of neighbourhoods at the western and Eastern suburbs.\n"
        },
        {
            "metadata": {},
            "cell_type": "code",
            "source": "",
            "execution_count": null,
            "outputs": []
        }
    ],
    "metadata": {
        "kernelspec": {
            "name": "python3",
            "display_name": "Python 3.6",
            "language": "python"
        },
        "language_info": {
            "name": "python",
            "version": "3.6.9",
            "mimetype": "text/x-python",
            "codemirror_mode": {
                "name": "ipython",
                "version": 3
            },
            "pygments_lexer": "ipython3",
            "nbconvert_exporter": "python",
            "file_extension": ".py"
        }
    },
    "nbformat": 4,
    "nbformat_minor": 1
}